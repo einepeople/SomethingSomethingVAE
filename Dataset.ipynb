{
 "cells": [
  {
   "cell_type": "code",
   "execution_count": 26,
   "metadata": {},
   "outputs": [],
   "source": [
    "import os, time\n",
    "import torch\n",
    "import pandas as pd\n",
    "from skimage import io, transform\n",
    "import numpy as np\n",
    "import matplotlib.pyplot as plt\n",
    "from torch.utils.data import Dataset\n",
    "from torchvision import transforms, utils"
   ]
  },
  {
   "cell_type": "code",
   "execution_count": 15,
   "metadata": {},
   "outputs": [],
   "source": [
    "dataset_path = f\"C:\\midi\\data\""
   ]
  },
  {
   "cell_type": "code",
   "execution_count": 29,
   "metadata": {},
   "outputs": [],
   "source": [
    "class PianorollDataset(Dataset):\n",
    "    def __init__(self, folder_path):\n",
    "        self.folder = folder_path\n",
    "        self.oswalk = list(os.walk(dataset_path))[1:] #throw away the first one - the root directory\n",
    "        self.dataset = []\n",
    "        print(\"Dataset: Building metadata\")\n",
    "        start = time.time()\n",
    "        for root,_,files in self.oswalk:\n",
    "            t = len(files) - 2 # there is always a midi-file itself in the directory, so -1, \n",
    "            # also since we're pairing the files - there will be N-1 pairs, so -1 again\n",
    "            self.dataset += [(os.path.join(root, f\"{i}.png\"),\n",
    "                         os.path.join(root, f\"{i+1}.png\")) for i in range(t)]\n",
    "        print(f\"Dataset: Built in {time.time()-start} sec\")\n",
    "        \n",
    "    def __getitem__(self, idx):\n",
    "        return self.dataset[idx]\n",
    "    \n",
    "    def __len__(self):\n",
    "        return len(self.dataset)\n",
    "    "
   ]
  },
  {
   "cell_type": "code",
   "execution_count": 30,
   "metadata": {},
   "outputs": [
    {
     "name": "stdout",
     "output_type": "stream",
     "text": [
      "Dataset: Building metadata\n",
      "Dataset: Built in 0.12792038917541504 sec\n",
      "12728\n"
     ]
    }
   ],
   "source": [
    "t = PianorollDataset(dataset_path)\n",
    "print(len(t))"
   ]
  },
  {
   "cell_type": "code",
   "execution_count": null,
   "metadata": {},
   "outputs": [],
   "source": []
  },
  {
   "cell_type": "code",
   "execution_count": null,
   "metadata": {},
   "outputs": [],
   "source": []
  },
  {
   "cell_type": "code",
   "execution_count": null,
   "metadata": {},
   "outputs": [],
   "source": []
  }
 ],
 "metadata": {
  "kernelspec": {
   "display_name": "Python 3",
   "language": "python",
   "name": "python3"
  },
  "language_info": {
   "codemirror_mode": {
    "name": "ipython",
    "version": 3
   },
   "file_extension": ".py",
   "mimetype": "text/x-python",
   "name": "python",
   "nbconvert_exporter": "python",
   "pygments_lexer": "ipython3",
   "version": "3.7.4"
  }
 },
 "nbformat": 4,
 "nbformat_minor": 2
}
